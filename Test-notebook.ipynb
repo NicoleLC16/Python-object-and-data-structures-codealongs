{
 "cells": [
  {
   "cell_type": "code",
   "execution_count": 1,
   "id": "c9196901",
   "metadata": {},
   "outputs": [
    {
     "name": "stdout",
     "output_type": "stream",
     "text": [
      "hello world\n"
     ]
    }
   ],
   "source": [
    "print(\"hello world\")"
   ]
  },
  {
   "cell_type": "code",
   "execution_count": 2,
   "id": "b6368c9e",
   "metadata": {},
   "outputs": [
    {
     "name": "stdout",
     "output_type": "stream",
     "text": [
      "Hello I am 28 years old!\n"
     ]
    }
   ],
   "source": [
    "age = 28\n",
    "print(f\"Hello I am {age} years old!\")"
   ]
  },
  {
   "cell_type": "code",
   "execution_count": null,
   "id": "e600428d",
   "metadata": {},
   "outputs": [],
   "source": []
  }
 ],
 "metadata": {
  "kernelspec": {
   "display_name": "Python 3 (ipykernel)",
   "language": "python",
   "name": "python3"
  },
  "language_info": {
   "codemirror_mode": {
    "name": "ipython",
    "version": 3
   },
   "file_extension": ".py",
   "mimetype": "text/x-python",
   "name": "python",
   "nbconvert_exporter": "python",
   "pygments_lexer": "ipython3",
   "version": "3.9.7"
  }
 },
 "nbformat": 4,
 "nbformat_minor": 5
}
